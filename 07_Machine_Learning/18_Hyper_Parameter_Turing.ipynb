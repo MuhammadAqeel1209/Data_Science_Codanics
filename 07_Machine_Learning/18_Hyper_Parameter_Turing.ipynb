{
 "cells": [
  {
   "cell_type": "markdown",
   "metadata": {},
   "source": [
    "# Hyper Parameter Turing"
   ]
  },
  {
   "cell_type": "markdown",
   "metadata": {},
   "source": [
    "Hyper parameter turing is a process to finding a best combination of hyperparamter for given model\n",
    "**Types:**\n",
    "1. Grid Search: It is a brute force method to find the best combination of hyperparameters.\n",
    "2. Random Search: It is a random method to find the best combination of hyperparameters.\n",
    "3. Bayesian Optimization: It is a probabilistic method to find the best combination of hyperparameters.\n",
    "4. Gradient-based optimization: It is a method to find the best combination of hyperparameters by using\n"
   ]
  },
  {
   "cell_type": "markdown",
   "metadata": {},
   "source": [
    "# Cross Validations\n",
    "It is a technique used to evaluate the performance of model of unseen data. It is used to check how well the model generalizes to new data "
   ]
  },
  {
   "cell_type": "code",
   "execution_count": 21,
   "metadata": {},
   "outputs": [],
   "source": [
    "# import libiraries\n",
    "from sklearn.ensemble import RandomForestClassifier\n",
    "from sklearn.model_selection import train_test_split,GridSearchCV\n",
    "from sklearn.metrics import accuracy_score,confusion_matrix,classification_report"
   ]
  },
  {
   "cell_type": "code",
   "execution_count": 22,
   "metadata": {},
   "outputs": [],
   "source": [
    "# load the dataset \n",
    "from sklearn.datasets import  load_iris\n",
    "iris = load_iris()"
   ]
  },
  {
   "cell_type": "code",
   "execution_count": 23,
   "metadata": {},
   "outputs": [],
   "source": [
    "x = iris.data\n",
    "y = iris.target"
   ]
  },
  {
   "cell_type": "code",
   "execution_count": 24,
   "metadata": {},
   "outputs": [
    {
     "name": "stdout",
     "output_type": "stream",
     "text": [
      "Fitting 5 folds for each of 210 candidates, totalling 1050 fits\n"
     ]
    },
    {
     "name": "stderr",
     "output_type": "stream",
     "text": [
      "C:\\Users\\Muhammad Aqeel\\AppData\\Roaming\\Python\\Python312\\site-packages\\sklearn\\model_selection\\_validation.py:540: FitFailedWarning: \n",
      "350 fits failed out of a total of 1050.\n",
      "The score on these train-test partitions for these parameters will be set to nan.\n",
      "If these failures are not expected, you can try to debug them by setting error_score='raise'.\n",
      "\n",
      "Below are more details about the failures:\n",
      "--------------------------------------------------------------------------------\n",
      "350 fits failed with the following error:\n",
      "Traceback (most recent call last):\n",
      "  File \"C:\\Users\\Muhammad Aqeel\\AppData\\Roaming\\Python\\Python312\\site-packages\\sklearn\\model_selection\\_validation.py\", line 888, in _fit_and_score\n",
      "    estimator.fit(X_train, y_train, **fit_params)\n",
      "  File \"C:\\Users\\Muhammad Aqeel\\AppData\\Roaming\\Python\\Python312\\site-packages\\sklearn\\base.py\", line 1466, in wrapper\n",
      "    estimator._validate_params()\n",
      "  File \"C:\\Users\\Muhammad Aqeel\\AppData\\Roaming\\Python\\Python312\\site-packages\\sklearn\\base.py\", line 666, in _validate_params\n",
      "    validate_parameter_constraints(\n",
      "  File \"C:\\Users\\Muhammad Aqeel\\AppData\\Roaming\\Python\\Python312\\site-packages\\sklearn\\utils\\_param_validation.py\", line 95, in validate_parameter_constraints\n",
      "    raise InvalidParameterError(\n",
      "sklearn.utils._param_validation.InvalidParameterError: The 'max_features' parameter of RandomForestClassifier must be an int in the range [1, inf), a float in the range (0.0, 1.0], a str among {'sqrt', 'log2'} or None. Got 'auto' instead.\n",
      "\n",
      "  warnings.warn(some_fits_failed_message, FitFailedWarning)\n",
      "C:\\Users\\Muhammad Aqeel\\AppData\\Roaming\\Python\\Python312\\site-packages\\sklearn\\model_selection\\_search.py:1052: UserWarning: One or more of the test scores are non-finite: [       nan        nan        nan        nan        nan 0.95333333\n",
      " 0.96       0.96       0.96666667 0.96666667 0.96666667 0.96666667\n",
      " 0.96666667 0.96666667 0.96666667        nan        nan        nan\n",
      "        nan        nan 0.96       0.96666667 0.96       0.96\n",
      " 0.96666667 0.96       0.96       0.96666667 0.96       0.96\n",
      "        nan        nan        nan        nan        nan 0.95333333\n",
      " 0.96       0.96       0.96666667 0.96       0.96666667 0.96\n",
      " 0.96       0.96666667 0.96666667        nan        nan        nan\n",
      "        nan        nan 0.96666667 0.94666667 0.96       0.96666667\n",
      " 0.96666667 0.96666667 0.96       0.96666667 0.96       0.96\n",
      "        nan        nan        nan        nan        nan 0.96666667\n",
      " 0.96666667 0.96       0.96666667 0.96       0.96666667 0.96\n",
      " 0.96       0.96       0.96              nan        nan        nan\n",
      "        nan        nan 0.96       0.96       0.96666667 0.96\n",
      " 0.96       0.96666667 0.96       0.96666667 0.96       0.96\n",
      "        nan        nan        nan        nan        nan 0.96666667\n",
      " 0.96       0.96       0.96       0.96       0.95333333 0.96\n",
      " 0.96       0.96       0.96666667        nan        nan        nan\n",
      "        nan        nan 0.96666667 0.96666667 0.96666667 0.96666667\n",
      " 0.96666667 0.95333333 0.96       0.96666667 0.96666667 0.96666667\n",
      "        nan        nan        nan        nan        nan 0.96\n",
      " 0.96666667 0.96       0.96666667 0.96666667 0.96666667 0.96\n",
      " 0.96666667 0.96       0.96666667        nan        nan        nan\n",
      "        nan        nan 0.96666667 0.96       0.96       0.96666667\n",
      " 0.96666667 0.96666667 0.96       0.96666667 0.96       0.96666667\n",
      "        nan        nan        nan        nan        nan 0.96666667\n",
      " 0.95333333 0.96       0.96666667 0.96666667 0.96       0.96666667\n",
      " 0.96666667 0.96666667 0.96              nan        nan        nan\n",
      "        nan        nan 0.96666667 0.96       0.96666667 0.96666667\n",
      " 0.96       0.96666667 0.95333333 0.96       0.96666667 0.96666667\n",
      "        nan        nan        nan        nan        nan 0.96\n",
      " 0.96       0.96666667 0.96666667 0.96666667 0.95333333 0.95333333\n",
      " 0.96666667 0.96666667 0.96              nan        nan        nan\n",
      "        nan        nan 0.96       0.96       0.96666667 0.96\n",
      " 0.96666667 0.96666667 0.96       0.96       0.96       0.96666667]\n",
      "  warnings.warn(\n"
     ]
    },
    {
     "name": "stdout",
     "output_type": "stream",
     "text": [
      "Best Parameters:\t {'criterion': 'gini', 'max_depth': 4, 'max_features': 'sqrt', 'n_estimators': 300}\n",
      "CPU times: total: 5.33 s\n",
      "Wall time: 3min 14s\n"
     ]
    }
   ],
   "source": [
    "%%time\n",
    "# model \n",
    "model = RandomForestClassifier()\n",
    "\n",
    "# parameter grid \n",
    "param_grid = {\n",
    "    'n_estimators' : [50,100,200,300,400],\n",
    "    'max_depth' : [4,5,6,7,8,9,10],\n",
    "    'max_features' : ['auto','sqrt','log2'],\n",
    "    'criterion' : ['gini','entropy']\n",
    "}\n",
    "# set up the grid\n",
    "grid = GridSearchCV(\n",
    "    estimator=model,\n",
    "    param_grid=param_grid,\n",
    "    cv=5,\n",
    "    scoring='accuracy',\n",
    "    n_jobs=-1,\n",
    "    verbose=1\n",
    ")\n",
    "#fit the model\n",
    "grid.fit(x,y)\n",
    "\n",
    "print('Best Parameters:\\t',grid.best_params_)"
   ]
  },
  {
   "cell_type": "code",
   "execution_count": 25,
   "metadata": {},
   "outputs": [
    {
     "name": "stdout",
     "output_type": "stream",
     "text": [
      "CPU times: total: 0 ns\n",
      "Wall time: 1 ms\n"
     ]
    }
   ],
   "source": [
    "%%time\n",
    "from sklearn.model_selection import RandomizedSearchCV\n",
    "# model \n",
    "model = RandomForestClassifier()\n",
    "\n",
    "# parameter grid \n",
    "param_grid = {\n",
    "    'n_estimators' : [50,100,200,300,400],\n",
    "    'max_depth' : [4,5,6,7,8,9,10],\n",
    "    'max_features' : ['auto','sqrt','log2'],\n",
    "    'criterion' : ['gini','entropy']\n",
    "}\n",
    "# set up the grid\n",
    "grid = RandomizedSearchCV(\n",
    "    estimator=model,\n",
    "    param_distributions=param_grid,\n",
    "    cv=5,\n",
    "    scoring='accuracy',\n",
    "    n_jobs=-1,\n",
    "    verbose=1,\n",
    "    n_iter=20\n",
    ")"
   ]
  },
  {
   "cell_type": "code",
   "execution_count": null,
   "metadata": {},
   "outputs": [],
   "source": []
  }
 ],
 "metadata": {
  "kernelspec": {
   "display_name": "Python 3",
   "language": "python",
   "name": "python3"
  },
  "language_info": {
   "codemirror_mode": {
    "name": "ipython",
    "version": 3
   },
   "file_extension": ".py",
   "mimetype": "text/x-python",
   "name": "python",
   "nbconvert_exporter": "python",
   "pygments_lexer": "ipython3",
   "version": "3.12.6"
  }
 },
 "nbformat": 4,
 "nbformat_minor": 2
}
